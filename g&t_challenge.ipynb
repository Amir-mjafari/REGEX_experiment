{
  "nbformat": 4,
  "nbformat_minor": 0,
  "metadata": {
    "colab": {
      "name": "g&t_challenge.ipynb",
      "provenance": [],
      "authorship_tag": "ABX9TyNNPOdQSEl9p3ou6q5YP3yw",
      "include_colab_link": true
    },
    "kernelspec": {
      "name": "python3",
      "display_name": "Python 3"
    },
    "language_info": {
      "name": "python"
    }
  },
  "cells": [
    {
      "cell_type": "markdown",
      "metadata": {
        "id": "view-in-github",
        "colab_type": "text"
      },
      "source": [
        "<a href=\"https://colab.research.google.com/github/Amir-mjafari/REGEX_experiment/blob/main/g%26t_challenge.ipynb\" target=\"_parent\"><img src=\"https://colab.research.google.com/assets/colab-badge.svg\" alt=\"Open In Colab\"/></a>"
      ]
    },
    {
      "cell_type": "code",
      "execution_count": null,
      "metadata": {
        "colab": {
          "base_uri": "https://localhost:8080/"
        },
        "id": "RNy6cXWwqw--",
        "outputId": "752129a2-5148-4e4b-c3b0-157dc606129e"
      },
      "outputs": [
        {
          "output_type": "stream",
          "name": "stdout",
          "text": [
            "Requirement already satisfied: tabula-py in /usr/local/lib/python3.7/dist-packages (2.3.0)\n",
            "Requirement already satisfied: numpy in /usr/local/lib/python3.7/dist-packages (from tabula-py) (1.21.6)\n",
            "Requirement already satisfied: distro in /usr/local/lib/python3.7/dist-packages (from tabula-py) (1.7.0)\n",
            "Requirement already satisfied: pandas>=0.25.3 in /usr/local/lib/python3.7/dist-packages (from tabula-py) (1.3.5)\n",
            "Requirement already satisfied: python-dateutil>=2.7.3 in /usr/local/lib/python3.7/dist-packages (from pandas>=0.25.3->tabula-py) (2.8.2)\n",
            "Requirement already satisfied: pytz>=2017.3 in /usr/local/lib/python3.7/dist-packages (from pandas>=0.25.3->tabula-py) (2022.1)\n",
            "Requirement already satisfied: six>=1.5 in /usr/local/lib/python3.7/dist-packages (from python-dateutil>=2.7.3->pandas>=0.25.3->tabula-py) (1.15.0)\n"
          ]
        }
      ],
      "source": [
        "!pip install tabula-py\n",
        "import pandas as pd\n",
        "import tabula\n",
        "import numpy as np\n",
        "import re"
      ]
    },
    {
      "cell_type": "code",
      "source": [
        "# Making DataFrame of the .pdf \n",
        "\n",
        "file_path = \"/content/Hospitals.pdf\"\n",
        "df1 = pd.concat(tabula.read_pdf(file_path, lattice=True, pages='1-14', multiple_tables=True, encoding='latin-1'))\n",
        "df1 = df1.reset_index()\n",
        "df1 = df1.drop(['index','Hosp\\rCode No.','Health Authority\\rTelephone','Health Authority\\rFax'], axis=1)\n"
      ],
      "metadata": {
        "colab": {
          "base_uri": "https://localhost:8080/"
        },
        "id": "5LU6KtRgtNZx",
        "outputId": "c49aa174-f4ef-4262-a5db-b7af50913f32"
      },
      "execution_count": null,
      "outputs": [
        {
          "output_type": "stream",
          "name": "stderr",
          "text": [
            "Got stderr: Apr 26, 2022 3:38:04 AM org.apache.pdfbox.pdmodel.font.PDTrueTypeFont <init>\n",
            "WARNING: Using fallback font 'LiberationSans-Bold' for 'Helvetica,Bold'\n",
            "\n"
          ]
        }
      ]
    },
    {
      "cell_type": "code",
      "source": [
        "# City\n",
        "\n",
        "sparsed_1 = list(df1['Hospital Location &\\rAddress, Phone, Fax'].str.split('\\r'))\n",
        "city_list = [item[0] for item in sparsed_1]\n",
        "print(city_list)"
      ],
      "metadata": {
        "colab": {
          "base_uri": "https://localhost:8080/"
        },
        "id": "1reO9SBPudLB",
        "outputId": "fab31b9f-ccf1-451c-ee77-80f6f251d3e0"
      },
      "execution_count": null,
      "outputs": [
        {
          "output_type": "stream",
          "name": "stdout",
          "text": [
            "['ABBOTSFORD', 'ALERT BAY', 'ASHCROFT', 'BELLA  BELLA', 'BELLA COOLA', 'BURNABY', 'BURNS LAKE', 'CAMPBELL RIVER', 'CASTLEGAR', 'CHEMAINUS', 'CHETWYND', 'CHILLIWACK', 'CLEARWATER', 'COMOX', 'COURTENAY', 'CRANBROOK', 'CRESTON', 'DAWSON CREEK', 'DELTA', 'DUNCAN', 'FERNIE', 'FORT NELSON', 'FORT ST. JAMES', 'FORT ST. JOHN', 'GOLDEN', 'GRAND FORKS', 'HAZELTON', 'HOPE', 'INVERMERE', 'KAMLOOPS', 'KASLO', 'KELOWNA', 'KITIMAT', 'LADYSMITH', 'LANGLEY', 'LILLOOET', 'LYTTON', 'MACKENZIE', 'MAPLE RIDGE', 'MASSET', 'MCBRIDE', 'MERRITT', 'MISSION', 'NAKUSP', 'NANAIMO', 'NELSON', 'NEW DENVER', 'NEW WESTMINSTER', 'NORTH VANCOUVER', 'OLIVER', '100 MILE HOUSE', 'PENTICTON', 'PORT ALBERNI', 'PORT ALICE', 'PORT HARDY', 'PORT MCNEILL', 'PORT MOODY', 'POWELL RIVER', 'PRINCE GEORGE', 'PRINCE RUPERT', 'PRINCETON', 'VILLAGE OF', 'QUESNEL', 'REVELSTOKE', 'RICHMOND', 'SAANICHTON', 'SALMON ARM', 'SALT SPRING ISLAND', 'SECHELT', 'SMITHERS', 'SPARWOOD', 'SQUAMISH', 'STEWART', 'SUMMERLAND', 'SURREY', 'SURREY', 'TERRACE', 'TOFINO', 'TRAIL', 'VANCOUVER', 'VANCOUVER', 'VANCOUVER', 'VANCOUVER', 'VANCOUVER', 'VANCOUVER', 'VANCOUVER', 'VANCOUVER', 'VANCOUVER', 'VANCOUVER', 'VANCOUVER', 'VANDERHOOF', 'VERNON', 'VICTORIA', 'VICTORIA', 'VICTORIA', 'VICTORIA', 'WHITE ROCK', 'WILLIAMS LAKE']\n"
          ]
        }
      ]
    },
    {
      "cell_type": "code",
      "source": [
        "# Postal Codes\n",
        "\n",
        "'''\n",
        "   Regex : [A-Z]\\d[A-Z]\\s?\\d[A-Z]\\d\n",
        "\n",
        "'''\n",
        "\n",
        "sparsed_1_1 = [' '.join(item) for item in sparsed_1]\n",
        "\n",
        "postal_codes = []\n",
        "for s in sparsed_1_1:\n",
        "  m = re.search(r'([A-Z]\\d[A-Z]\\s?\\d[A-Z]\\d)', s)\n",
        "  if m:\n",
        "    postal_codes.append(m.group(1))\n",
        "  else:\n",
        "    postal_codes.append(None)\n",
        "\n",
        "\n",
        "print(postal_codes)\n"
      ],
      "metadata": {
        "colab": {
          "base_uri": "https://localhost:8080/"
        },
        "id": "qs8z-S23Mgu_",
        "outputId": "d57b30cb-1cc9-48b8-ec5d-186269c2a50b"
      },
      "execution_count": null,
      "outputs": [
        {
          "output_type": "stream",
          "name": "stdout",
          "text": [
            "['V2S 0C2', 'V0N 1A0', 'V0K 1A0', 'V0T 1Z0', 'V0T 1C0', 'V5G 2X6', 'V0J 1E0', 'V9W 3V1', 'V1N 2H7', 'V0R 1K1', 'V0C 1J0', 'V2P 1P7', 'V0E 1N0', 'V9M 1P2', 'V9N 0B8', 'V1C 3H9', 'V0B 1G0', 'V1G 3W8', 'V4K 3V6', 'V9L 1E5', 'V0B 1M0', 'V0C 1R0', 'V0J 1P0', 'V1J 0J5', 'V0A 1H0', 'V0H 1H0', 'V0J 1Y0', 'V0X 1L4', 'V0A 1K0', 'V2C 2T1', 'V0G 1M0', 'V1Y 1T2', 'V8C 2S3', 'V9G 1A1', 'V3A 4H4', 'V0K 1V0', 'V0K 1Z0', 'V0J 2C0', 'V2X 7G5', 'V0T 1M0', 'V0J 2E0', 'V1K 1C6', 'V2V 3H5', 'V0G 1R0', 'V9S 2B7', 'V1L 2V1', 'V0G 1S0', 'V3L 3W7', 'V7L 2L7', 'V0H 1T0', 'V0K 2E0', 'V2A 3G6', 'V9Y 4S1', 'V0N 2N0', 'V0N 2P0', 'V0N 2R0', 'V3H 3W9', 'V8A 5R3', 'V2M 1S2', 'V8J 2A6', 'V0X 1W0', 'V0T 1S0', 'V2J 2K7', 'V0E 2S0', 'V6X 1A2', 'V8M 2B2', 'V1E 4N6', 'V8K 1T1', 'V0N 3A0', 'V0J 2N0', 'V0B 2G0', 'V8B 0J3', 'V0T 1W0', 'V0H 1Z0', 'V3V 1Z2', 'V3T 0G9', 'V8G 2W7', 'V0R 2Z0', 'V1R 4M1', 'V5Z 4E6', 'V6H 3N1', 'V5Z 2G9', 'V5P 3L6', 'V5T 3N4', 'V6P 1S1', 'V6Z 1Y6', 'V5M 3E8', 'V6H 3N1', 'V6T 2B5', 'V5Z 1M9', 'V0J 3A0', 'V1T 5L2', 'V8N 1V7', 'V8R 1J8', 'V9A 1L2', 'V8Z 6R5', 'V4B 2R4', 'V2G 2G8']\n"
          ]
        }
      ]
    },
    {
      "cell_type": "code",
      "source": [
        "# Hospital Name\n",
        "\n",
        "''' \n",
        "    Regex : .+?(?=Fraser Health Authority|Vancouver Island Health Authority|Interior Health Authority|\n",
        "            Vancouver Coastal Health Authority|Northern Health Authority|Provincial Health Services Authority|\n",
        "            Providence Health Care Societ|Dianne Doyle\n",
        "'''\n",
        "\n",
        "sparsed_2 = list(df1['Hospital Name,\\rHealth Authority Address'].str.split('\\r'))\n",
        "sparsed_2_1 = [' '.join(item) for item in sparsed_2]\n",
        "\n",
        "\n",
        "hospital_names = []\n",
        "for s in sparsed_2_1:\n",
        "  m = re.search(r'(.+?(?=Fraser Health Authority|Vancouver Island Health Authority|Interior Health Authority|Vancouver Coastal Health Authority|Northern Health Authority|Provincial Health Services Authority|Providence Health Care Society|Dianne Doyle))', s)\n",
        "  if m:\n",
        "    hospital_names.append(m.group(1))\n",
        "  else:\n",
        "    hospital_names.append(\"St. Joseph's General Hospital\")\n",
        "\n",
        "\n",
        "print(hospital_names)"
      ],
      "metadata": {
        "colab": {
          "base_uri": "https://localhost:8080/",
          "height": 235
        },
        "id": "x3AGXkL4VTYQ",
        "outputId": "bd07f0cf-8121-4b30-b589-74f3b288ebde"
      },
      "execution_count": null,
      "outputs": [
        {
          "output_type": "error",
          "ename": "NameError",
          "evalue": "ignored",
          "traceback": [
            "\u001b[0;31m---------------------------------------------------------------------------\u001b[0m",
            "\u001b[0;31mNameError\u001b[0m                                 Traceback (most recent call last)",
            "\u001b[0;32m<ipython-input-1-18935eee5f6d>\u001b[0m in \u001b[0;36m<module>\u001b[0;34m()\u001b[0m\n\u001b[1;32m      7\u001b[0m '''\n\u001b[1;32m      8\u001b[0m \u001b[0;34m\u001b[0m\u001b[0m\n\u001b[0;32m----> 9\u001b[0;31m \u001b[0msparsed_2\u001b[0m \u001b[0;34m=\u001b[0m \u001b[0mlist\u001b[0m\u001b[0;34m(\u001b[0m\u001b[0mdf1\u001b[0m\u001b[0;34m[\u001b[0m\u001b[0;34m'Hospital Name,\\rHealth Authority Address'\u001b[0m\u001b[0;34m]\u001b[0m\u001b[0;34m.\u001b[0m\u001b[0mstr\u001b[0m\u001b[0;34m.\u001b[0m\u001b[0msplit\u001b[0m\u001b[0;34m(\u001b[0m\u001b[0;34m'\\r'\u001b[0m\u001b[0;34m)\u001b[0m\u001b[0;34m)\u001b[0m\u001b[0;34m\u001b[0m\u001b[0;34m\u001b[0m\u001b[0m\n\u001b[0m\u001b[1;32m     10\u001b[0m \u001b[0msparsed_2_1\u001b[0m \u001b[0;34m=\u001b[0m \u001b[0;34m[\u001b[0m\u001b[0;34m' '\u001b[0m\u001b[0;34m.\u001b[0m\u001b[0mjoin\u001b[0m\u001b[0;34m(\u001b[0m\u001b[0mitem\u001b[0m\u001b[0;34m)\u001b[0m \u001b[0;32mfor\u001b[0m \u001b[0mitem\u001b[0m \u001b[0;32min\u001b[0m \u001b[0msparsed_2\u001b[0m\u001b[0;34m]\u001b[0m\u001b[0;34m\u001b[0m\u001b[0;34m\u001b[0m\u001b[0m\n\u001b[1;32m     11\u001b[0m \u001b[0;34m\u001b[0m\u001b[0m\n",
            "\u001b[0;31mNameError\u001b[0m: name 'df1' is not defined"
          ]
        }
      ]
    },
    {
      "cell_type": "code",
      "source": [
        "# Health Authority \n",
        "\n",
        "health_autority = []\n",
        "for s in sparsed_2_1:\n",
        "  m = re.findall('Fraser Health Authority|Vancouver Island Health Authority|Interior Health Authority|Vancouver Coastal Health Authority|Northern Health Authority|Provincial Health Services Authority|Providence Health Care Society', s)\n",
        "  if m:\n",
        "    health_autority.append(m[0])\n",
        "  else:\n",
        "    health_autority.append('Island Health Authority')\n",
        "\n",
        "\n",
        "print(health_autority)\n"
      ],
      "metadata": {
        "colab": {
          "base_uri": "https://localhost:8080/"
        },
        "id": "xWlJAq6VchVJ",
        "outputId": "de7b6664-4dcc-4d9e-a937-c80d4d8c494d"
      },
      "execution_count": null,
      "outputs": [
        {
          "output_type": "stream",
          "name": "stdout",
          "text": [
            "['Fraser Health Authority', 'Vancouver Island Health Authority', 'Interior Health Authority', 'Vancouver Coastal Health Authority', 'Vancouver Coastal Health Authority', 'Fraser Health Authority', 'Northern Health Authority', 'Vancouver Island Health Authority', 'Interior Health Authority', 'Vancouver Island Health Authority', 'Northern Health Authority', 'Fraser Health Authority', 'Interior Health Authority', 'Island Health Authority', 'Vancouver Island Health Authority', 'Interior Health Authority', 'Interior Health Authority', 'Northern Health Authority', 'Fraser Health Authority', 'Vancouver Island Health Authority', 'Interior Health Authority', 'Northern Health Authority', 'Northern Health Authority', 'Northern Health Authority', 'Interior Health Authority', 'Interior Health Authority', 'Northern Health Authority', 'Fraser Health Authority', 'Interior Health Authority', 'Interior Health Authority', 'Interior Health Authority', 'Interior Health Authority', 'Northern Health Authority', 'Vancouver Island Health Authority', 'Fraser Health Authority', 'Interior Health Authority', 'Interior Health Authority', 'Northern Health Authority', 'Fraser Health Authority', 'Northern Health Authority', 'Northern Health Authority', 'Interior Health Authority', 'Fraser Health Authority', 'Interior Health Authority', 'Vancouver Island Health Authority', 'Interior Health Authority', 'Interior Health Authority', 'Fraser Health Authority', 'Vancouver Coastal Health Authority', 'Interior Health Authority', 'Interior Health Authority', 'Interior Health Authority', 'Vancouver Island Health Authority', 'Vancouver Island Health Authority', 'Vancouver Island Health Authority', 'Vancouver Island Health Authority', 'Fraser Health Authority', 'Vancouver Coastal Health Authority', 'Northern Health Authority', 'Northern Health Authority', 'Interior Health Authority', 'Northern Health Authority', 'Northern Health Authority', 'Interior Health Authority', 'Vancouver Coastal Health Authority', 'Vancouver Island Health Authority', 'Interior Health Authority', 'Vancouver Island Health Authority', 'Vancouver Coastal Health Authority', 'Northern Health Authority', 'Interior Health Authority', 'Vancouver Coastal Health Authority', 'Northern Health Authority', 'Interior Health Authority', 'Fraser Health Authority', 'Fraser Health Authority', 'Northern Health Authority', 'Vancouver Island Health Authority', 'Interior Health Authority', 'Provincial Health Services Authority', 'Provincial Health Services Authority', 'Vancouver Coastal Health Authority', 'Providence Health Care Society', 'Providence Health Care Society', 'Vancouver Coastal Health Authority', 'Providence Health Care Society', 'Provincial Health Services Authority', 'Provincial Health Services Authority', 'Vancouver Coastal Health Authority', 'Vancouver Coastal Health Authority', 'Northern Health Authority', 'Interior Health Authority', 'Vancouver Island Health Authority', 'Vancouver Island Health Authority', 'Vancouver Island Health Authority', 'Vancouver Island Health Authority', 'Fraser Health Authority', 'Interior Health Authority']\n"
          ]
        }
      ]
    },
    {
      "cell_type": "code",
      "source": [
        "# Submission preparation\n",
        "\n",
        "submission_dict = {'city':city_list,'postal_code': postal_codes, 'hospital_name': hospital_names, 'health_authority': health_autority }\n",
        "submission = pd.DataFrame(submission_dict)\n",
        "display(submission)\n",
        "submission.to_csv('/content/hospitals.csv', index = False, encoding = \"utf-8\" )"
      ],
      "metadata": {
        "colab": {
          "base_uri": "https://localhost:8080/",
          "height": 537
        },
        "id": "LwBaNcKRmweg",
        "outputId": "4a144ca2-93c9-4bfd-c838-6fdc467f7fd5"
      },
      "execution_count": null,
      "outputs": [
        {
          "output_type": "display_data",
          "data": {
            "text/plain": [
              "             city postal_code  \\\n",
              "0      ABBOTSFORD     V2S 0C2   \n",
              "1       ALERT BAY     V0N 1A0   \n",
              "2        ASHCROFT     V0K 1A0   \n",
              "3    BELLA  BELLA     V0T 1Z0   \n",
              "4     BELLA COOLA     V0T 1C0   \n",
              "..            ...         ...   \n",
              "93       VICTORIA     V8R 1J8   \n",
              "94       VICTORIA     V9A 1L2   \n",
              "95       VICTORIA     V8Z 6R5   \n",
              "96     WHITE ROCK     V4B 2R4   \n",
              "97  WILLIAMS LAKE     V2G 2G8   \n",
              "\n",
              "                                      hospital_name  \\\n",
              "0   Abbotsford Regional Hospital and Cancer Centre    \n",
              "1         Cormorant Island Community Health Centre    \n",
              "2           Ashcroft and District General Hospital    \n",
              "3                     R.W. Large Memorial Hospital    \n",
              "4                     Bella Coola General Hospital    \n",
              "..                                              ...   \n",
              "93                          Royal Jubilee Hospital    \n",
              "94                         The Gorge Road Hospital    \n",
              "95                       Victoria General Hospital    \n",
              "96                    Peace Arch District Hospital    \n",
              "97                       Cariboo Memorial Hospital    \n",
              "\n",
              "                      health_authority  \n",
              "0              Fraser Health Authority  \n",
              "1    Vancouver Island Health Authority  \n",
              "2            Interior Health Authority  \n",
              "3   Vancouver Coastal Health Authority  \n",
              "4   Vancouver Coastal Health Authority  \n",
              "..                                 ...  \n",
              "93   Vancouver Island Health Authority  \n",
              "94   Vancouver Island Health Authority  \n",
              "95   Vancouver Island Health Authority  \n",
              "96             Fraser Health Authority  \n",
              "97           Interior Health Authority  \n",
              "\n",
              "[98 rows x 4 columns]"
            ],
            "text/html": [
              "\n",
              "  <div id=\"df-bd2d6660-664c-4250-9b79-bebfdc0b446c\">\n",
              "    <div class=\"colab-df-container\">\n",
              "      <div>\n",
              "<style scoped>\n",
              "    .dataframe tbody tr th:only-of-type {\n",
              "        vertical-align: middle;\n",
              "    }\n",
              "\n",
              "    .dataframe tbody tr th {\n",
              "        vertical-align: top;\n",
              "    }\n",
              "\n",
              "    .dataframe thead th {\n",
              "        text-align: right;\n",
              "    }\n",
              "</style>\n",
              "<table border=\"1\" class=\"dataframe\">\n",
              "  <thead>\n",
              "    <tr style=\"text-align: right;\">\n",
              "      <th></th>\n",
              "      <th>city</th>\n",
              "      <th>postal_code</th>\n",
              "      <th>hospital_name</th>\n",
              "      <th>health_authority</th>\n",
              "    </tr>\n",
              "  </thead>\n",
              "  <tbody>\n",
              "    <tr>\n",
              "      <th>0</th>\n",
              "      <td>ABBOTSFORD</td>\n",
              "      <td>V2S 0C2</td>\n",
              "      <td>Abbotsford Regional Hospital and Cancer Centre</td>\n",
              "      <td>Fraser Health Authority</td>\n",
              "    </tr>\n",
              "    <tr>\n",
              "      <th>1</th>\n",
              "      <td>ALERT BAY</td>\n",
              "      <td>V0N 1A0</td>\n",
              "      <td>Cormorant Island Community Health Centre</td>\n",
              "      <td>Vancouver Island Health Authority</td>\n",
              "    </tr>\n",
              "    <tr>\n",
              "      <th>2</th>\n",
              "      <td>ASHCROFT</td>\n",
              "      <td>V0K 1A0</td>\n",
              "      <td>Ashcroft and District General Hospital</td>\n",
              "      <td>Interior Health Authority</td>\n",
              "    </tr>\n",
              "    <tr>\n",
              "      <th>3</th>\n",
              "      <td>BELLA  BELLA</td>\n",
              "      <td>V0T 1Z0</td>\n",
              "      <td>R.W. Large Memorial Hospital</td>\n",
              "      <td>Vancouver Coastal Health Authority</td>\n",
              "    </tr>\n",
              "    <tr>\n",
              "      <th>4</th>\n",
              "      <td>BELLA COOLA</td>\n",
              "      <td>V0T 1C0</td>\n",
              "      <td>Bella Coola General Hospital</td>\n",
              "      <td>Vancouver Coastal Health Authority</td>\n",
              "    </tr>\n",
              "    <tr>\n",
              "      <th>...</th>\n",
              "      <td>...</td>\n",
              "      <td>...</td>\n",
              "      <td>...</td>\n",
              "      <td>...</td>\n",
              "    </tr>\n",
              "    <tr>\n",
              "      <th>93</th>\n",
              "      <td>VICTORIA</td>\n",
              "      <td>V8R 1J8</td>\n",
              "      <td>Royal Jubilee Hospital</td>\n",
              "      <td>Vancouver Island Health Authority</td>\n",
              "    </tr>\n",
              "    <tr>\n",
              "      <th>94</th>\n",
              "      <td>VICTORIA</td>\n",
              "      <td>V9A 1L2</td>\n",
              "      <td>The Gorge Road Hospital</td>\n",
              "      <td>Vancouver Island Health Authority</td>\n",
              "    </tr>\n",
              "    <tr>\n",
              "      <th>95</th>\n",
              "      <td>VICTORIA</td>\n",
              "      <td>V8Z 6R5</td>\n",
              "      <td>Victoria General Hospital</td>\n",
              "      <td>Vancouver Island Health Authority</td>\n",
              "    </tr>\n",
              "    <tr>\n",
              "      <th>96</th>\n",
              "      <td>WHITE ROCK</td>\n",
              "      <td>V4B 2R4</td>\n",
              "      <td>Peace Arch District Hospital</td>\n",
              "      <td>Fraser Health Authority</td>\n",
              "    </tr>\n",
              "    <tr>\n",
              "      <th>97</th>\n",
              "      <td>WILLIAMS LAKE</td>\n",
              "      <td>V2G 2G8</td>\n",
              "      <td>Cariboo Memorial Hospital</td>\n",
              "      <td>Interior Health Authority</td>\n",
              "    </tr>\n",
              "  </tbody>\n",
              "</table>\n",
              "<p>98 rows × 4 columns</p>\n",
              "</div>\n",
              "      <button class=\"colab-df-convert\" onclick=\"convertToInteractive('df-bd2d6660-664c-4250-9b79-bebfdc0b446c')\"\n",
              "              title=\"Convert this dataframe to an interactive table.\"\n",
              "              style=\"display:none;\">\n",
              "        \n",
              "  <svg xmlns=\"http://www.w3.org/2000/svg\" height=\"24px\"viewBox=\"0 0 24 24\"\n",
              "       width=\"24px\">\n",
              "    <path d=\"M0 0h24v24H0V0z\" fill=\"none\"/>\n",
              "    <path d=\"M18.56 5.44l.94 2.06.94-2.06 2.06-.94-2.06-.94-.94-2.06-.94 2.06-2.06.94zm-11 1L8.5 8.5l.94-2.06 2.06-.94-2.06-.94L8.5 2.5l-.94 2.06-2.06.94zm10 10l.94 2.06.94-2.06 2.06-.94-2.06-.94-.94-2.06-.94 2.06-2.06.94z\"/><path d=\"M17.41 7.96l-1.37-1.37c-.4-.4-.92-.59-1.43-.59-.52 0-1.04.2-1.43.59L10.3 9.45l-7.72 7.72c-.78.78-.78 2.05 0 2.83L4 21.41c.39.39.9.59 1.41.59.51 0 1.02-.2 1.41-.59l7.78-7.78 2.81-2.81c.8-.78.8-2.07 0-2.86zM5.41 20L4 18.59l7.72-7.72 1.47 1.35L5.41 20z\"/>\n",
              "  </svg>\n",
              "      </button>\n",
              "      \n",
              "  <style>\n",
              "    .colab-df-container {\n",
              "      display:flex;\n",
              "      flex-wrap:wrap;\n",
              "      gap: 12px;\n",
              "    }\n",
              "\n",
              "    .colab-df-convert {\n",
              "      background-color: #E8F0FE;\n",
              "      border: none;\n",
              "      border-radius: 50%;\n",
              "      cursor: pointer;\n",
              "      display: none;\n",
              "      fill: #1967D2;\n",
              "      height: 32px;\n",
              "      padding: 0 0 0 0;\n",
              "      width: 32px;\n",
              "    }\n",
              "\n",
              "    .colab-df-convert:hover {\n",
              "      background-color: #E2EBFA;\n",
              "      box-shadow: 0px 1px 2px rgba(60, 64, 67, 0.3), 0px 1px 3px 1px rgba(60, 64, 67, 0.15);\n",
              "      fill: #174EA6;\n",
              "    }\n",
              "\n",
              "    [theme=dark] .colab-df-convert {\n",
              "      background-color: #3B4455;\n",
              "      fill: #D2E3FC;\n",
              "    }\n",
              "\n",
              "    [theme=dark] .colab-df-convert:hover {\n",
              "      background-color: #434B5C;\n",
              "      box-shadow: 0px 1px 3px 1px rgba(0, 0, 0, 0.15);\n",
              "      filter: drop-shadow(0px 1px 2px rgba(0, 0, 0, 0.3));\n",
              "      fill: #FFFFFF;\n",
              "    }\n",
              "  </style>\n",
              "\n",
              "      <script>\n",
              "        const buttonEl =\n",
              "          document.querySelector('#df-bd2d6660-664c-4250-9b79-bebfdc0b446c button.colab-df-convert');\n",
              "        buttonEl.style.display =\n",
              "          google.colab.kernel.accessAllowed ? 'block' : 'none';\n",
              "\n",
              "        async function convertToInteractive(key) {\n",
              "          const element = document.querySelector('#df-bd2d6660-664c-4250-9b79-bebfdc0b446c');\n",
              "          const dataTable =\n",
              "            await google.colab.kernel.invokeFunction('convertToInteractive',\n",
              "                                                     [key], {});\n",
              "          if (!dataTable) return;\n",
              "\n",
              "          const docLinkHtml = 'Like what you see? Visit the ' +\n",
              "            '<a target=\"_blank\" href=https://colab.research.google.com/notebooks/data_table.ipynb>data table notebook</a>'\n",
              "            + ' to learn more about interactive tables.';\n",
              "          element.innerHTML = '';\n",
              "          dataTable['output_type'] = 'display_data';\n",
              "          await google.colab.output.renderOutput(dataTable, element);\n",
              "          const docLink = document.createElement('div');\n",
              "          docLink.innerHTML = docLinkHtml;\n",
              "          element.appendChild(docLink);\n",
              "        }\n",
              "      </script>\n",
              "    </div>\n",
              "  </div>\n",
              "  "
            ]
          },
          "metadata": {}
        }
      ]
    }
  ]
}